{
 "cells": [
  {
   "cell_type": "code",
   "execution_count": 1,
   "metadata": {},
   "outputs": [
    {
     "name": "stderr",
     "output_type": "stream",
     "text": [
      "WARNING: using prp.prp in module lsp conflicts with an existing identifier.\n"
     ]
    },
    {
     "data": {
      "text/plain": [
       "Main.lsp"
      ]
     },
     "execution_count": 1,
     "metadata": {},
     "output_type": "execute_result"
    }
   ],
   "source": [
    "include(\"prp.jl\")\n",
    "include(\"lsp.jl\")"
   ]
  },
  {
   "cell_type": "code",
   "execution_count": 2,
   "metadata": {},
   "outputs": [],
   "source": [
    "using Main.prp\n",
    "using Main.lsp\n",
    "using JuMP\n",
    "using Cbc"
   ]
  },
  {
   "cell_type": "code",
   "execution_count": 3,
   "metadata": {},
   "outputs": [
    {
     "data": {
      "text/plain": [
       "PRP(1.0f0, 4, 3.0f0, 30.0f0, 3000.0f0, 0.0, 20.0f0, 2.0f0, 0, Client[Client(143, 99, 3, 1.0f10, 1, Int64[]), Client(89, 159, 3, 2000, 2, [10, 20, 30]), Client(76, 314, 3, 4500, 3, [40, 50, 60]), Client(285, 63, 3, 4500, 4, [70, 80, 90]), Client(401, 325, 3, 1400, 5, [100, 110, 120])])"
      ]
     },
     "execution_count": 3,
     "metadata": {},
     "output_type": "execute_result"
    }
   ],
   "source": [
    "prp_1 = parse_PRP(\"PRP_instances/1LSP_Instance.prp\")\n",
    "prp_1"
   ]
  },
  {
   "cell_type": "code",
   "execution_count": null,
   "metadata": {},
   "outputs": [],
   "source": [
    "model = Model(Cbc.Optimizer)\n",
    "add_lsp(prp_1, model)\n",
    "optimize!(model)\n",
    "termination_status(model)"
   ]
  },
  {
   "cell_type": "code",
   "execution_count": null,
   "metadata": {},
   "outputs": [],
   "source": [
    "model"
   ]
  },
  {
   "cell_type": "code",
   "execution_count": 7,
   "metadata": {},
   "outputs": [
    {
     "data": {
      "text/latex": [
       "$$ 30 p_{1} + 3000 y_{1} + 30 p_{2} + 3000 y_{2} + 30 p_{3} + 3000 y_{3} + 3 I_{1,1} + 3 I_{2,1} + 3 I_{3,1} + 3 I_{4,1} + 3 I_{1,2} + 3 I_{2,2} + 3 I_{3,2} + 3 I_{4,2} + 3 I_{1,3} + 3 I_{2,3} + 3 I_{3,3} + 3 I_{4,3} $$"
      ],
      "text/plain": [
       "30 p[1] + 3000 y[1] + 30 p[2] + 3000 y[2] + 30 p[3] + 3000 y[3] + 3 I[1,1] + 3 I[2,1] + 3 I[3,1] + 3 I[4,1] + 3 I[1,2] + 3 I[2,2] + 3 I[3,2] + 3 I[4,2] + 3 I[1,3] + 3 I[2,3] + 3 I[3,3] + 3 I[4,3]"
      ]
     },
     "execution_count": 7,
     "metadata": {},
     "output_type": "execute_result"
    }
   ],
   "source": [
    "model = Model(Cbc.Optimizer)\n",
    "\n",
    "l = convert(Int,prp_1.l)\n",
    "n = convert(Int,prp_1.n)\n",
    "L0s = [i.L_0 for i in prp_1.clients]\n",
    "Ls = [i.L for i in prp_1.clients]\n",
    "h = [i.h for i in prp_1.clients]\n",
    "d1 = [i.d for i in prp_1.clients[2:end]]\n",
    "d = hcat(d1...)'    \n",
    "\n",
    "\n",
    "#Quantité stockée chez i a la période j\n",
    "I = @variable(model,0 <= I[0:n, 0:l] )\n",
    "for (i,j) in zip(L0s, I[:,0])\n",
    "    @constraint(model, i == j)\n",
    "end\n",
    "\n",
    "#Quantité produite a la période i\n",
    "p = @variable(model, 0<= p[1:l])\n",
    "\n",
    "#Lancement de la production a l'instant l\n",
    "@variable(model,0 <= y[1:l] <= 1,Bin)\n",
    "\n",
    "#Quantité produite pour i a l'instant t\n",
    "@variable(model,0 <= q[1:n, 1:l] )\n",
    "\n",
    "##Evolution de la Quantité du fournisseur au fil de la production\n",
    "for t=1:l\n",
    "    @constraint(model, I[0,t-1] + p[t] == sum(q[:,t]) + I[0,t])\n",
    "end\n",
    "\n",
    "\n",
    "\n",
    "C = convert(Int, prp_1.C)\n",
    "#Pour éviter les problèmes d'instabilité numérique\n",
    "if(C > 1e5)\n",
    "    C = 1e5\n",
    "end\n",
    "#Pour produire il faut lancer la production\n",
    "for t = 1:l\n",
    "    @constraint(model, p[t] <= 1e5*y[t] )\n",
    "end\n",
    "\n",
    "\n",
    "#Consommation des ressources par la demande\n",
    "for i = 1:n\n",
    "    for t = 1:l\n",
    "        @constraint(model, I[i,t-1] + q[i,t] == d[i,t] + I[i,t])\n",
    "    end\n",
    "end\n",
    "\n",
    "#La Quantité ne doit jamais dépasser une borne supérieure\n",
    "for i = 0:n\n",
    "    for t = 1:l\n",
    "        if(i == 0)\n",
    "            @constraint(model, I[i,t-1]<= Ls[i+1])\n",
    "        else\n",
    "            @constraint(model, I[i,t-1] + q[i,t] <= Ls[i+1])\n",
    "        end\n",
    "    end\n",
    "end\n",
    "\n",
    "#La fonction objectif \n",
    "e = sum(prp_1.u*p + prp_1.f*y)\n",
    "for t=1:l\n",
    "    for i=1:n\n",
    "        e = e + I[i,t]*h[i]\n",
    "    end\n",
    "end\n",
    "@objective(model,Min,e)\n"
   ]
  },
  {
   "cell_type": "code",
   "execution_count": 8,
   "metadata": {},
   "outputs": [
    {
     "name": "stdout",
     "output_type": "stream",
     "text": [
      "Welcome to the CBC MILP Solver \n",
      "Version: 2.10.3 \n",
      "Build Date: Jan  1 1970 \n",
      "\n",
      "command line - Cbc_C_Interface -solve -quit (default strategy 1)\n",
      "Continuous objective value is 22973 - 0.00 seconds\n",
      "Cgl0004I processed model has 21 rows, 26 columns (2 integer (2 of which binary)) and 62 elements\n",
      "Cbc0012I Integer solution of 25950 found by DiveCoefficient after 0 iterations and 0 nodes (0.01 seconds)\n",
      "Cbc0001I Search completed - best objective 25950, took 0 iterations and 0 nodes (0.01 seconds)\n",
      "Cbc0035I Maximum depth 0, 0 variables fixed on reduced cost\n",
      "Cuts at root node changed objective from 25950 to 25950\n",
      "Probing was tried 0 times and created 0 cuts of which 0 were active after adding rounds of cuts (0.000 seconds)\n",
      "Gomory was tried 0 times and created 0 cuts of which 0 were active after adding rounds of cuts (0.000 seconds)\n",
      "Knapsack was tried 0 times and created 0 cuts of which 0 were active after adding rounds of cuts (0.000 seconds)\n",
      "Clique was tried 0 times and created 0 cuts of which 0 were active after adding rounds of cuts (0.000 seconds)\n",
      "MixedIntegerRounding2 was tried 0 times and created 0 cuts of which 0 were active after adding rounds of cuts (0.000 seconds)\n",
      "FlowCover was tried 0 times and created 0 cuts of which 0 were active after adding rounds of cuts (0.000 seconds)\n",
      "TwoMirCuts was tried 0 times and created 0 cuts of which 0 were active after adding rounds of cuts (0.000 seconds)\n",
      "ZeroHalf was tried 0 times and created 0 cuts of which 0 were active after adding rounds of cuts (0.000 seconds)\n",
      "\n",
      "Result - Optimal solution found\n",
      "\n",
      "Objective value:                25950.00000000\n",
      "Enumerated nodes:               0\n",
      "Total iterations:               0\n",
      "Time (CPU seconds):             0.01\n",
      "Time (Wallclock seconds):       0.01\n",
      "\n",
      "Total time (CPU seconds):       0.01   (Wallclock seconds):       0.01\n",
      "\n"
     ]
    },
    {
     "data": {
      "text/plain": [
       "OPTIMAL::TerminationStatusCode = 1"
      ]
     },
     "execution_count": 8,
     "metadata": {},
     "output_type": "execute_result"
    }
   ],
   "source": [
    "optimize!(model)\n",
    "termination_status(model)"
   ]
  },
  {
   "cell_type": "code",
   "execution_count": 9,
   "metadata": {},
   "outputs": [
    {
     "data": {
      "text/latex": [
       "$$ \\begin{alignat*}{1}\\min\\quad & 30 p_{1} + 3000 y_{1} + 30 p_{2} + 3000 y_{2} + 30 p_{3} + 3000 y_{3} + 3 I_{1,1} + 3 I_{2,1} + 3 I_{3,1} + 3 I_{4,1} + 3 I_{1,2} + 3 I_{2,2} + 3 I_{3,2} + 3 I_{4,2} + 3 I_{1,3} + 3 I_{2,3} + 3 I_{3,3} + 3 I_{4,3}\\\\\n",
       "\\text{Subject to} \\quad & -I_{0,0} = -1.0\\\\\n",
       " & -I_{1,0} = -2.0\\\\\n",
       " & -I_{2,0} = -3.0\\\\\n",
       " & -I_{3,0} = -4.0\\\\\n",
       " & -I_{4,0} = -5.0\\\\\n",
       " & I_{0,0} - I_{0,1} + p_{1} - q_{1,1} - q_{2,1} - q_{3,1} - q_{4,1} = 0.0\\\\\n",
       " & I_{0,1} - I_{0,2} + p_{2} - q_{1,2} - q_{2,2} - q_{3,2} - q_{4,2} = 0.0\\\\\n",
       " & I_{0,2} - I_{0,3} + p_{3} - q_{1,3} - q_{2,3} - q_{3,3} - q_{4,3} = 0.0\\\\\n",
       " & I_{1,0} - I_{1,1} + q_{1,1} = 10.0\\\\\n",
       " & I_{1,1} - I_{1,2} + q_{1,2} = 20.0\\\\\n",
       " & I_{1,2} - I_{1,3} + q_{1,3} = 30.0\\\\\n",
       " & I_{2,0} - I_{2,1} + q_{2,1} = 40.0\\\\\n",
       " & I_{2,1} - I_{2,2} + q_{2,2} = 50.0\\\\\n",
       " & I_{2,2} - I_{2,3} + q_{2,3} = 60.0\\\\\n",
       " & I_{3,0} - I_{3,1} + q_{3,1} = 70.0\\\\\n",
       " & I_{3,1} - I_{3,2} + q_{3,2} = 80.0\\\\\n",
       " & I_{3,2} - I_{3,3} + q_{3,3} = 90.0\\\\\n",
       " & I_{4,0} - I_{4,1} + q_{4,1} = 100.0\\\\\n",
       " & I_{4,1} - I_{4,2} + q_{4,2} = 110.0\\\\\n",
       " & I_{4,2} - I_{4,3} + q_{4,3} = 120.0\\\\\n",
       " & p_{1} - 100000 y_{1} \\leq 0.0\\\\\n",
       " & p_{2} - 100000 y_{2} \\leq 0.0\\\\\n",
       " & p_{3} - 100000 y_{3} \\leq 0.0\\\\\n",
       " & I_{0,0} \\leq 1.0e10\\\\\n",
       " & I_{0,1} \\leq 1.0e10\\\\\n",
       " & I_{0,2} \\leq 1.0e10\\\\\n",
       " & I_{1,0} + q_{1,1} \\leq 2000.0\\\\\n",
       " & I_{1,1} + q_{1,2} \\leq 2000.0\\\\\n",
       " & I_{1,2} + q_{1,3} \\leq 2000.0\\\\\n",
       " & I_{2,0} + q_{2,1} \\leq 4500.0\\\\\n",
       " & I_{2,1} + q_{2,2} \\leq 4500.0\\\\\n",
       " & I_{2,2} + q_{2,3} \\leq 4500.0\\\\\n",
       " & I_{3,0} + q_{3,1} \\leq 4500.0\\\\\n",
       " & I_{3,1} + q_{3,2} \\leq 4500.0\\\\\n",
       " & I_{3,2} + q_{3,3} \\leq 4500.0\\\\\n",
       " & I_{4,0} + q_{4,1} \\leq 1400.0\\\\\n",
       " & I_{4,1} + q_{4,2} \\leq 1400.0\\\\\n",
       " & I_{4,2} + q_{4,3} \\leq 1400.0\\\\\n",
       " & I_{0,0} \\geq 0.0\\\\\n",
       " & I_{1,0} \\geq 0.0\\\\\n",
       " & I_{2,0} \\geq 0.0\\\\\n",
       " & I_{3,0} \\geq 0.0\\\\\n",
       " & I_{4,0} \\geq 0.0\\\\\n",
       " & I_{0,1} \\geq 0.0\\\\\n",
       " & I_{1,1} \\geq 0.0\\\\\n",
       " & I_{2,1} \\geq 0.0\\\\\n",
       " & I_{3,1} \\geq 0.0\\\\\n",
       " & I_{4,1} \\geq 0.0\\\\\n",
       " & I_{0,2} \\geq 0.0\\\\\n",
       " & I_{1,2} \\geq 0.0\\\\\n",
       " & I_{2,2} \\geq 0.0\\\\\n",
       " & I_{3,2} \\geq 0.0\\\\\n",
       " & I_{4,2} \\geq 0.0\\\\\n",
       " & I_{0,3} \\geq 0.0\\\\\n",
       " & I_{1,3} \\geq 0.0\\\\\n",
       " & I_{2,3} \\geq 0.0\\\\\n",
       " & I_{3,3} \\geq 0.0\\\\\n",
       " & I_{4,3} \\geq 0.0\\\\\n",
       " & p_{1} \\geq 0.0\\\\\n",
       " & p_{2} \\geq 0.0\\\\\n",
       " & p_{3} \\geq 0.0\\\\\n",
       " & y_{1} \\geq 0.0\\\\\n",
       " & y_{2} \\geq 0.0\\\\\n",
       " & y_{3} \\geq 0.0\\\\\n",
       " & q_{1,1} \\geq 0.0\\\\\n",
       " & q_{2,1} \\geq 0.0\\\\\n",
       " & q_{3,1} \\geq 0.0\\\\\n",
       " & q_{4,1} \\geq 0.0\\\\\n",
       " & q_{1,2} \\geq 0.0\\\\\n",
       " & q_{2,2} \\geq 0.0\\\\\n",
       " & q_{3,2} \\geq 0.0\\\\\n",
       " & q_{4,2} \\geq 0.0\\\\\n",
       " & q_{1,3} \\geq 0.0\\\\\n",
       " & q_{2,3} \\geq 0.0\\\\\n",
       " & q_{3,3} \\geq 0.0\\\\\n",
       " & q_{4,3} \\geq 0.0\\\\\n",
       " & y_{1} \\leq 1.0\\\\\n",
       " & y_{2} \\leq 1.0\\\\\n",
       " & y_{3} \\leq 1.0\\\\\n",
       " & y_{1} binary\\\\\n",
       " & y_{2} binary\\\\\n",
       " & y_{3} binary\\\\\n",
       "\\end{alignat*}\n",
       " $$"
      ],
      "text/plain": [
       "A JuMP Model\n",
       "Minimization problem with:\n",
       "Variables: 38\n",
       "Objective function type: GenericAffExpr{Float64,VariableRef}\n",
       "`GenericAffExpr{Float64,VariableRef}`-in-`MathOptInterface.EqualTo{Float64}`: 20 constraints\n",
       "`GenericAffExpr{Float64,VariableRef}`-in-`MathOptInterface.LessThan{Float64}`: 18 constraints\n",
       "`VariableRef`-in-`MathOptInterface.GreaterThan{Float64}`: 38 constraints\n",
       "`VariableRef`-in-`MathOptInterface.LessThan{Float64}`: 3 constraints\n",
       "`VariableRef`-in-`MathOptInterface.ZeroOne`: 3 constraints\n",
       "Model mode: AUTOMATIC\n",
       "CachingOptimizer state: ATTACHED_OPTIMIZER\n",
       "Solver name: COIN Branch-and-Cut (Cbc)\n",
       "Names registered in the model: I, p, q, y"
      ]
     },
     "execution_count": 9,
     "metadata": {},
     "output_type": "execute_result"
    }
   ],
   "source": [
    "model"
   ]
  },
  {
   "cell_type": "code",
   "execution_count": 13,
   "metadata": {},
   "outputs": [
    {
     "name": "stdout",
     "output_type": "stream",
     "text": [
      "value.(I) = 2-dimensional DenseAxisArray{Float64,2,...} with index sets:\n",
      "    Dimension 1, 0:4\n",
      "    Dimension 2, 0:3\n",
      "And data, a 5×4 Array{Float64,2}:\n",
      " 1.0  560.0  299.99999999999994  0.0\n",
      " 2.0    0.0    0.0               0.0\n",
      " 3.0    0.0    0.0               0.0\n",
      " 4.0    0.0    0.0               0.0\n",
      " 5.0    0.0    0.0               0.0\n",
      "value.(q) = [8.0 20.0 30.0; 37.0 50.0 60.0; 66.0 80.0 90.0; 95.00000000000001 110.0 120.0]\n",
      "value.(p) = [765.0000000000001, 0.0, 0.0]\n",
      "value.(y) = [1.0, 0.0, 0.0]\n"
     ]
    },
    {
     "data": {
      "text/plain": [
       "3-element Array{Float64,1}:\n",
       " 1.0\n",
       " 0.0\n",
       " 0.0"
      ]
     },
     "execution_count": 13,
     "metadata": {},
     "output_type": "execute_result"
    }
   ],
   "source": [
    "@show value.(I)\n",
    "@show value.(q)\n",
    "@show value.(p)\n",
    "@show value.(y)"
   ]
  },
  {
   "cell_type": "code",
   "execution_count": null,
   "metadata": {},
   "outputs": [],
   "source": []
  }
 ],
 "metadata": {
  "kernelspec": {
   "display_name": "Julia 1.3.1",
   "language": "julia",
   "name": "julia-1.3"
  },
  "language_info": {
   "file_extension": ".jl",
   "mimetype": "application/julia",
   "name": "julia",
   "version": "1.3.1"
  }
 },
 "nbformat": 4,
 "nbformat_minor": 2
}
