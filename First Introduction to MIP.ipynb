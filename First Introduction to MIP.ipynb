{
 "cells": [
  {
   "cell_type": "code",
   "execution_count": 121,
   "metadata": {},
   "outputs": [],
   "source": [
    "using JuMP\n",
    "using Clp\n",
    "using GLPK\n",
    "using LinearAlgebra"
   ]
  },
  {
   "cell_type": "code",
   "execution_count": 23,
   "metadata": {},
   "outputs": [],
   "source": [
    "prgrm1 = Model()\n",
    "set_optimizer(prgrm1, GLPK.Optimizer)"
   ]
  },
  {
   "cell_type": "code",
   "execution_count": 24,
   "metadata": {},
   "outputs": [
    {
     "data": {
      "text/plain": [
       "3-element Array{VariableRef,1}:\n",
       " y[1]\n",
       " y[2]\n",
       " y[3]"
      ]
     },
     "execution_count": 24,
     "metadata": {},
     "output_type": "execute_result"
    }
   ],
   "source": [
    "@variable(prgrm1, 0<=x[1:3])\n",
    "@variable(prgrm1, 0<=y[1:3], Bin)"
   ]
  },
  {
   "cell_type": "code",
   "execution_count": 25,
   "metadata": {},
   "outputs": [
    {
     "data": {
      "text/plain": [
       "2-element Array{ConstraintRef{Model,MathOptInterface.ConstraintIndex{MathOptInterface.ScalarAffineFunction{Float64},MathOptInterface.LessThan{Float64}},ScalarShape},1}:\n",
       " 2 x[1] + x[2] - x[3] - 10 y[1] - 8 y[2] ≤ -4.0\n",
       " x[1] + x[2] + x[3] - 5 y[1] - 8 y[3] ≤ -3.0   "
      ]
     },
     "execution_count": 25,
     "metadata": {},
     "output_type": "execute_result"
    }
   ],
   "source": [
    "A = [2 1 -1; 1 1 1]\n",
    "B = [-10 -8 0; -5 0 -8]\n",
    "b = [-4 ; -3]\n",
    "@constraint(prgrm1, c1, A*x + B*y .<= b)"
   ]
  },
  {
   "cell_type": "code",
   "execution_count": 31,
   "metadata": {},
   "outputs": [
    {
     "data": {
      "text/plain": [
       "1×6 LinearAlgebra.Adjoint{Int64,Array{Int64,1}}:\n",
       " -8  -6  2  42  18  33"
      ]
     },
     "execution_count": 31,
     "metadata": {},
     "output_type": "execute_result"
    }
   ],
   "source": [
    "c = -[8,6,-2,-42,-18,-33]'"
   ]
  },
  {
   "cell_type": "code",
   "execution_count": 32,
   "metadata": {},
   "outputs": [
    {
     "data": {
      "text/latex": [
       "$$ -8 x_{1} - 6 x_{2} + 2 x_{3} + 42 y_{1} + 18 y_{2} + 33 y_{3} $$"
      ],
      "text/plain": [
       "-8 x[1] - 6 x[2] + 2 x[3] + 42 y[1] + 18 y[2] + 33 y[3]"
      ]
     },
     "execution_count": 32,
     "metadata": {},
     "output_type": "execute_result"
    }
   ],
   "source": [
    "@objective(prgrm1, Min, c*[x;y])"
   ]
  },
  {
   "cell_type": "code",
   "execution_count": 33,
   "metadata": {},
   "outputs": [
    {
     "data": {
      "text/latex": [
       "$$ \\begin{alignat*}{1}\\min\\quad & -8 x_{1} - 6 x_{2} + 2 x_{3} + 42 y_{1} + 18 y_{2} + 33 y_{3}\\\\\n",
       "\\text{Subject to} \\quad & 2 x_{1} + x_{2} - x_{3} - 10 y_{1} - 8 y_{2} \\leq -4.0\\\\\n",
       " & x_{1} + x_{2} + x_{3} - 5 y_{1} - 8 y_{3} \\leq -3.0\\\\\n",
       " & x_{1} \\geq 0.0\\\\\n",
       " & x_{2} \\geq 0.0\\\\\n",
       " & x_{3} \\geq 0.0\\\\\n",
       " & y_{1} \\geq 0.0\\\\\n",
       " & y_{2} \\geq 0.0\\\\\n",
       " & y_{3} \\geq 0.0\\\\\n",
       " & y_{1} binary\\\\\n",
       " & y_{2} binary\\\\\n",
       " & y_{3} binary\\\\\n",
       "\\end{alignat*}\n",
       " $$"
      ],
      "text/plain": [
       "A JuMP Model\n",
       "Minimization problem with:\n",
       "Variables: 6\n",
       "Objective function type: GenericAffExpr{Float64,VariableRef}\n",
       "`GenericAffExpr{Float64,VariableRef}`-in-`MathOptInterface.LessThan{Float64}`: 2 constraints\n",
       "`VariableRef`-in-`MathOptInterface.GreaterThan{Float64}`: 6 constraints\n",
       "`VariableRef`-in-`MathOptInterface.ZeroOne`: 3 constraints\n",
       "Model mode: AUTOMATIC\n",
       "CachingOptimizer state: ATTACHED_OPTIMIZER\n",
       "Solver name: GLPK\n",
       "Names registered in the model: c1, x, y"
      ]
     },
     "execution_count": 33,
     "metadata": {},
     "output_type": "execute_result"
    }
   ],
   "source": [
    "prgrm1"
   ]
  },
  {
   "cell_type": "code",
   "execution_count": 36,
   "metadata": {},
   "outputs": [
    {
     "data": {
      "text/plain": [
       "FEASIBLE_POINT::ResultStatusCode = 1"
      ]
     },
     "execution_count": 36,
     "metadata": {},
     "output_type": "execute_result"
    }
   ],
   "source": [
    "optimize!(prgrm1)\n",
    "primal_status(prgrm1)"
   ]
  },
  {
   "cell_type": "code",
   "execution_count": 37,
   "metadata": {},
   "outputs": [
    {
     "name": "stdout",
     "output_type": "stream",
     "text": [
      "objective_value(prgrm1) = 25.0\n",
      "value.(x) = [4.0, 6.0, 0.0]\n",
      "value.(y) = [1.0, 1.0, 1.0]\n",
      "End ! \n"
     ]
    }
   ],
   "source": [
    "@show objective_value(prgrm1);\n",
    "@show value.(x)\n",
    "@show value.(y)\n",
    "println(\"End ! \")"
   ]
  },
  {
   "cell_type": "code",
   "execution_count": 145,
   "metadata": {},
   "outputs": [],
   "source": [
    "c1 = [-1; -4]\n",
    "c2 = [-2; -3]\n",
    "\n",
    "dim_x = length(c1)\n",
    "dim_u = length(c2)\n",
    "\n",
    "b = [-2; -3]\n",
    "\n",
    "A1 = [1 -3;\n",
    "     -1 -3]\n",
    "A2 = [1 -2;\n",
    "     -1 -1]\n",
    "\n",
    "M = 1000;"
   ]
  },
  {
   "cell_type": "code",
   "execution_count": null,
   "metadata": {},
   "outputs": [],
   "source": []
  }
 ],
 "metadata": {
  "kernelspec": {
   "display_name": "Julia 1.3.1",
   "language": "julia",
   "name": "julia-1.3"
  },
  "language_info": {
   "file_extension": ".jl",
   "mimetype": "application/julia",
   "name": "julia",
   "version": "1.3.1"
  }
 },
 "nbformat": 4,
 "nbformat_minor": 2
}
