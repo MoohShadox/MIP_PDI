{
 "cells": [
  {
   "cell_type": "code",
   "execution_count": 1,
   "metadata": {},
   "outputs": [
    {
     "name": "stdout",
     "output_type": "stream",
     "text": [
      "\u001b[32m\u001b[1m  Updating\u001b[22m\u001b[39m registry at `~/.julia/registries/General`\n",
      "\u001b[32m\u001b[1m  Updating\u001b[22m\u001b[39m git-repo `https://github.com/JuliaRegistries/General.git`\n",
      "\u001b[2K\u001b[?25h[1mFetching:\u001b[22m\u001b[39m [========================================>]  100.0 %.0 %46.3 %>  ]  93.1 %\u001b[32m\u001b[1m Resolving\u001b[22m\u001b[39m package versions...\n",
      "\u001b[32m\u001b[1m  Updating\u001b[22m\u001b[39m `~/.julia/environments/v1.0/Project.toml`\n",
      "\u001b[90m [no changes]\u001b[39m\n",
      "\u001b[32m\u001b[1m  Updating\u001b[22m\u001b[39m `~/.julia/environments/v1.0/Manifest.toml`\n",
      "\u001b[90m [no changes]\u001b[39m\n",
      "\u001b[32m\u001b[1m Resolving\u001b[22m\u001b[39m package versions...\n",
      "\u001b[32m\u001b[1m  Updating\u001b[22m\u001b[39m `~/.julia/environments/v1.0/Project.toml`\n",
      "\u001b[90m [no changes]\u001b[39m\n",
      "\u001b[32m\u001b[1m  Updating\u001b[22m\u001b[39m `~/.julia/environments/v1.0/Manifest.toml`\n",
      "\u001b[90m [no changes]\u001b[39m\n",
      "\u001b[32m\u001b[1m Resolving\u001b[22m\u001b[39m package versions...\n",
      "\u001b[32m\u001b[1m  Updating\u001b[22m\u001b[39m `~/.julia/environments/v1.0/Project.toml`\n",
      "\u001b[90m [no changes]\u001b[39m\n",
      "\u001b[32m\u001b[1m  Updating\u001b[22m\u001b[39m `~/.julia/environments/v1.0/Manifest.toml`\n",
      "\u001b[90m [no changes]\u001b[39m\n",
      "\u001b[32m\u001b[1m Resolving\u001b[22m\u001b[39m package versions...\n",
      "\u001b[32m\u001b[1m  Updating\u001b[22m\u001b[39m `~/.julia/environments/v1.0/Project.toml`\n",
      "\u001b[90m [no changes]\u001b[39m\n",
      "\u001b[32m\u001b[1m  Updating\u001b[22m\u001b[39m `~/.julia/environments/v1.0/Manifest.toml`\n",
      "\u001b[90m [no changes]\u001b[39m\n",
      "\u001b[32m\u001b[1m Resolving\u001b[22m\u001b[39m package versions...\n",
      "\u001b[32m\u001b[1m  Updating\u001b[22m\u001b[39m `~/.julia/environments/v1.0/Project.toml`\n",
      "\u001b[90m [no changes]\u001b[39m\n",
      "\u001b[32m\u001b[1m  Updating\u001b[22m\u001b[39m `~/.julia/environments/v1.0/Manifest.toml`\n",
      "\u001b[90m [no changes]\u001b[39m\n",
      "\u001b[32m\u001b[1m Resolving\u001b[22m\u001b[39m package versions...\n",
      "\u001b[32m\u001b[1m  Updating\u001b[22m\u001b[39m `~/.julia/environments/v1.0/Project.toml`\n",
      "\u001b[90m [no changes]\u001b[39m\n",
      "\u001b[32m\u001b[1m  Updating\u001b[22m\u001b[39m `~/.julia/environments/v1.0/Manifest.toml`\n",
      "\u001b[90m [no changes]\u001b[39m\n"
     ]
    },
    {
     "data": {
      "text/plain": [
       "Plots.PyPlotBackend()"
      ]
     },
     "execution_count": 1,
     "metadata": {},
     "output_type": "execute_result"
    }
   ],
   "source": [
    "using Pkg\n",
    "Pkg.add(\"JuMP\")\n",
    "Pkg.add(\"GLPK\")\n",
    "Pkg.add(\"LinearAlgebra\")\n",
    "Pkg.add(\"Plots\")\n",
    "Pkg.add(\"PyPlot\")\n",
    "Pkg.add(\"BenchmarkTools\")\n",
    "using JuMP\n",
    "using GLPK\n",
    "using LinearAlgebra\n",
    "using Plots\n",
    "using BenchmarkTools\n",
    "pyplot()"
   ]
  },
  {
   "cell_type": "markdown",
   "metadata": {},
   "source": [
    "# Simple instance"
   ]
  },
  {
   "cell_type": "code",
   "execution_count": 72,
   "metadata": {},
   "outputs": [
    {
     "data": {
      "text/latex": [
       "$$ \\begin{alignat*}{1}\\min\\quad & 10 p_{1} + 10 p_{2} + 10 p_{3} + 10 p_{4} + 10 p_{5} + 10 p_{6} + 10 p_{7} + 10 p_{8} + 10 p_{9} + 10 p_{10} + 1000 y_{1} + 1000 y_{2} + 1000 y_{3} + 1000 y_{4} + 1000 y_{5} + 1000 y_{6} + 1000 y_{7} + 1000 y_{8} + 1000 y_{9} + 1000 y_{10} + 5 I_{0} + 5 I_{1} + 5 I_{2} + 5 I_{3} + 5 I_{4} + 5 I_{5} + 5 I_{6} + 5 I_{7} + 5 I_{8} + 5 I_{9} + 5 I_{10}\\\\\n",
       "\\text{Subject to} \\quad & I_{0} = 0.0\\\\\n",
       " & p_{1} + I_{0} - I_{1} = 80.0\\\\\n",
       " & p_{2} + I_{1} - I_{2} = 30.0\\\\\n",
       " & p_{3} + I_{2} - I_{3} = 50.0\\\\\n",
       " & p_{4} + I_{3} - I_{4} = 100.0\\\\\n",
       " & p_{5} + I_{4} - I_{5} = 5.0\\\\\n",
       " & p_{6} + I_{5} - I_{6} = 5.0\\\\\n",
       " & p_{7} + I_{6} - I_{7} = 25.0\\\\\n",
       " & p_{8} + I_{7} - I_{8} = 100.0\\\\\n",
       " & p_{9} + I_{8} - I_{9} = 200.0\\\\\n",
       " & p_{10} + I_{9} - I_{10} = 100.0\\\\\n",
       " & I_{1} \\leq 200.0\\\\\n",
       " & I_{2} \\leq 200.0\\\\\n",
       " & I_{3} \\leq 200.0\\\\\n",
       " & I_{4} \\leq 200.0\\\\\n",
       " & I_{5} \\leq 200.0\\\\\n",
       " & I_{6} \\leq 200.0\\\\\n",
       " & I_{7} \\leq 200.0\\\\\n",
       " & I_{8} \\leq 200.0\\\\\n",
       " & I_{9} \\leq 200.0\\\\\n",
       " & I_{10} \\leq 200.0\\\\\n",
       " & p_{1} - 200 y_{1} \\leq 0.0\\\\\n",
       " & p_{2} - 200 y_{2} \\leq 0.0\\\\\n",
       " & p_{3} - 200 y_{3} \\leq 0.0\\\\\n",
       " & p_{4} - 200 y_{4} \\leq 0.0\\\\\n",
       " & p_{5} - 200 y_{5} \\leq 0.0\\\\\n",
       " & p_{6} - 200 y_{6} \\leq 0.0\\\\\n",
       " & p_{7} - 200 y_{7} \\leq 0.0\\\\\n",
       " & p_{8} - 200 y_{8} \\leq 0.0\\\\\n",
       " & p_{9} - 200 y_{9} \\leq 0.0\\\\\n",
       " & p_{10} - 100 y_{10} \\leq 0.0\\\\\n",
       " & p_{1} \\geq 0.0\\\\\n",
       " & p_{2} \\geq 0.0\\\\\n",
       " & p_{3} \\geq 0.0\\\\\n",
       " & p_{4} \\geq 0.0\\\\\n",
       " & p_{5} \\geq 0.0\\\\\n",
       " & p_{6} \\geq 0.0\\\\\n",
       " & p_{7} \\geq 0.0\\\\\n",
       " & p_{8} \\geq 0.0\\\\\n",
       " & p_{9} \\geq 0.0\\\\\n",
       " & p_{10} \\geq 0.0\\\\\n",
       " & I_{0} \\geq 0.0\\\\\n",
       " & I_{1} \\geq 0.0\\\\\n",
       " & I_{2} \\geq 0.0\\\\\n",
       " & I_{3} \\geq 0.0\\\\\n",
       " & I_{4} \\geq 0.0\\\\\n",
       " & I_{5} \\geq 0.0\\\\\n",
       " & I_{6} \\geq 0.0\\\\\n",
       " & I_{7} \\geq 0.0\\\\\n",
       " & I_{8} \\geq 0.0\\\\\n",
       " & I_{9} \\geq 0.0\\\\\n",
       " & I_{10} \\geq 0.0\\\\\n",
       " & y_{1} \\geq 0.0\\\\\n",
       " & y_{2} \\geq 0.0\\\\\n",
       " & y_{3} \\geq 0.0\\\\\n",
       " & y_{4} \\geq 0.0\\\\\n",
       " & y_{5} \\geq 0.0\\\\\n",
       " & y_{6} \\geq 0.0\\\\\n",
       " & y_{7} \\geq 0.0\\\\\n",
       " & y_{8} \\geq 0.0\\\\\n",
       " & y_{9} \\geq 0.0\\\\\n",
       " & y_{10} \\geq 0.0\\\\\n",
       " & y_{1} \\leq 1.0\\\\\n",
       " & y_{2} \\leq 1.0\\\\\n",
       " & y_{3} \\leq 1.0\\\\\n",
       " & y_{4} \\leq 1.0\\\\\n",
       " & y_{5} \\leq 1.0\\\\\n",
       " & y_{6} \\leq 1.0\\\\\n",
       " & y_{7} \\leq 1.0\\\\\n",
       " & y_{8} \\leq 1.0\\\\\n",
       " & y_{9} \\leq 1.0\\\\\n",
       " & y_{10} \\leq 1.0\\\\\n",
       " & y_{1} integer\\\\\n",
       " & y_{2} integer\\\\\n",
       " & y_{3} integer\\\\\n",
       " & y_{4} integer\\\\\n",
       " & y_{5} integer\\\\\n",
       " & y_{6} integer\\\\\n",
       " & y_{7} integer\\\\\n",
       " & y_{8} integer\\\\\n",
       " & y_{9} integer\\\\\n",
       " & y_{10} integer\\\\\n",
       "\\end{alignat*}\n",
       " $$"
      ],
      "text/plain": [
       "A JuMP Model\n",
       "Minimization problem with:\n",
       "Variables: 31\n",
       "Objective function type: GenericAffExpr{Float64,VariableRef}\n",
       "`GenericAffExpr{Float64,VariableRef}`-in-`MathOptInterface.EqualTo{Float64}`: 11 constraints\n",
       "`GenericAffExpr{Float64,VariableRef}`-in-`MathOptInterface.LessThan{Float64}`: 20 constraints\n",
       "`VariableRef`-in-`MathOptInterface.GreaterThan{Float64}`: 31 constraints\n",
       "`VariableRef`-in-`MathOptInterface.LessThan{Float64}`: 10 constraints\n",
       "`VariableRef`-in-`MathOptInterface.Integer`: 10 constraints\n",
       "Model mode: AUTOMATIC\n",
       "CachingOptimizer state: EMPTY_OPTIMIZER\n",
       "Solver name: GLPK\n",
       "Names registered in the model: I, p, y"
      ]
     },
     "execution_count": 72,
     "metadata": {},
     "output_type": "execute_result"
    }
   ],
   "source": [
    "T = 10\n",
    "f = 1000\n",
    "q = 10\n",
    "k = 5\n",
    "D = [80,30,50,100,5,5,25,100,200,100]\n",
    "Imax = 200\n",
    "\n",
    "prgrm = Model()\n",
    "set_optimizer(prgrm, GLPK.Optimizer)\n",
    "\n",
    "@variable(prgrm, p[1:T] >= 0)\n",
    "@variable(prgrm, I[0:T] >= 0) #We index from 0 to set an initial storage\n",
    "@variable(prgrm, 1 >= y[1:T] >= 0, Int)\n",
    "\n",
    "@constraint(prgrm, I[0] == 0) #We set initial storage to 0 (for example)\n",
    "\n",
    "for i in 1:T\n",
    "    @constraint(prgrm,I[i-1] + p[i] == D[i] + I[i])\n",
    "end\n",
    "\n",
    "\n",
    "for i in 1:T\n",
    "    @constraint(prgrm, I[i] <= Imax)\n",
    "end\n",
    "\n",
    "\n",
    "for i in 1:T\n",
    "    M = min(sum(D[i:end]), Imax)\n",
    "    @constraint(prgrm, p[i] <= M*y[i])\n",
    "end\n",
    "\n",
    "\n",
    "@objective(prgrm, Min, sum(p .* q) + sum(y .* f) + sum(I .* k))\n",
    "\n",
    "prgrm"
   ]
  },
  {
   "cell_type": "code",
   "execution_count": 73,
   "metadata": {},
   "outputs": [
    {
     "data": {
      "text/plain": [
       "OPTIMAL::TerminationStatusCode = 1"
      ]
     },
     "execution_count": 73,
     "metadata": {},
     "output_type": "execute_result"
    }
   ],
   "source": [
    "optimize!(prgrm)\n",
    "termination_status(prgrm)"
   ]
  },
  {
   "cell_type": "code",
   "execution_count": 156,
   "metadata": {},
   "outputs": [
    {
     "name": "stdout",
     "output_type": "stream",
     "text": [
      "value.(p) = [0.0, 0.0, 0.0, 135.0, 0.0, 0.0, 0.0, 200.0, 200.0, 0.0]\n",
      "value.(y) = [0.0, 0.0, 0.0, 1.0, 0.0, 0.0, 0.0, 1.0, 1.0, 0.0]\n",
      "(value.(I)).data = [160.0, 80.0, 50.0, 0.0, 35.0, 30.0, 25.0, 0.0, 100.0, 100.0, 0.0]\n",
      "-> Objective value: 9225.0\n"
     ]
    }
   ],
   "source": [
    "@show value.(p)\n",
    "@show value.(y)\n",
    "@show value.(I).data\n",
    "println(\"-> Objective value: \", objective_value(prgrm))"
   ]
  },
  {
   "cell_type": "markdown",
   "metadata": {},
   "source": [
    "# General instance"
   ]
  },
  {
   "cell_type": "code",
   "execution_count": 155,
   "metadata": {},
   "outputs": [
    {
     "data": {
      "text/plain": [
       "200"
      ]
     },
     "execution_count": 155,
     "metadata": {},
     "output_type": "execute_result"
    }
   ],
   "source": [
    "T = 10\n",
    "f = 1000\n",
    "\n",
    "q = [5, 10, 10, 5, 8, 2, 7, 8, 9, 10]\n",
    "k = [0, 10, 5, 5, 10, 5, 8, 2, 2, 2, 8]\n",
    "\n",
    "\n",
    "D = [80,30,50,100,5,5,25,100,200,100]\n",
    "\n",
    "Imax = 200"
   ]
  },
  {
   "cell_type": "code",
   "execution_count": 156,
   "metadata": {},
   "outputs": [
    {
     "data": {
      "text/latex": [
       "$$ 5 p_{1} + 10 p_{2} + 10 p_{3} + 5 p_{4} + 8 p_{5} + 2 p_{6} + 7 p_{7} + 8 p_{8} + 9 p_{9} + 10 p_{10} + 1000 y_{1} + 1000 y_{2} + 1000 y_{3} + 1000 y_{4} + 1000 y_{5} + 1000 y_{6} + 1000 y_{7} + 1000 y_{8} + 1000 y_{9} + 1000 y_{10} + 10 I_{1} + 5 I_{2} + 5 I_{3} + 10 I_{4} + 5 I_{5} + 8 I_{6} + 2 I_{7} + 2 I_{8} + 2 I_{9} + 8 I_{10} $$"
      ],
      "text/plain": [
       "5 p[1] + 10 p[2] + 10 p[3] + 5 p[4] + 8 p[5] + 2 p[6] + 7 p[7] + 8 p[8] + 9 p[9] + 10 p[10] + 1000 y[1] + 1000 y[2] + 1000 y[3] + 1000 y[4] + 1000 y[5] + 1000 y[6] + 1000 y[7] + 1000 y[8] + 1000 y[9] + 1000 y[10] + 10 I[1] + 5 I[2] + 5 I[3] + 10 I[4] + 5 I[5] + 8 I[6] + 2 I[7] + 2 I[8] + 2 I[9] + 8 I[10]"
      ]
     },
     "execution_count": 156,
     "metadata": {},
     "output_type": "execute_result"
    }
   ],
   "source": [
    "prgrm = Model()\n",
    "set_optimizer(prgrm, GLPK.Optimizer)\n",
    "\n",
    "@variable(prgrm, p[1:T] >= 0)\n",
    "@variable(prgrm, 1 >= y[1:T] >= 0, Int)\n",
    "@variable(prgrm, I[0:T] >= 0) #We index from 0 to set an initial storage\n",
    "\n",
    "@constraint(prgrm,I[0] == 0)\n",
    "\n",
    "\n",
    "for i in 1:T\n",
    "    @constraint(prgrm,I[i-1] + p[i] == D[i] + I[i])\n",
    "end\n",
    "\n",
    "\n",
    "for i in 1:T\n",
    "    @constraint(prgrm, I[i] <= Imax)\n",
    "end\n",
    "\n",
    "\n",
    "for i in 1:T\n",
    "    M = min(sum(D[i:end]), Imax)\n",
    "    @constraint(prgrm, p[i] <= M*y[i])\n",
    "end\n",
    "\n",
    "@objective(prgrm, Min, sum(p .* q) + sum(y .* f) + sum(I.data .* k))"
   ]
  },
  {
   "cell_type": "code",
   "execution_count": 157,
   "metadata": {},
   "outputs": [
    {
     "data": {
      "text/plain": [
       "OPTIMAL::TerminationStatusCode = 1"
      ]
     },
     "execution_count": 157,
     "metadata": {},
     "output_type": "execute_result"
    }
   ],
   "source": [
    "optimize!(prgrm)\n",
    "termination_status(prgrm)"
   ]
  },
  {
   "cell_type": "code",
   "execution_count": 158,
   "metadata": {},
   "outputs": [
    {
     "name": "stdout",
     "output_type": "stream",
     "text": [
      "value.(p) = [160.0, 0.0, 0.0, 135.0, 0.0, 0.0, 0.0, 200.0, 200.0, 0.0]\n",
      "value.(y) = [1.0, 0.0, 0.0, 1.0, 0.0, 0.0, 0.0, 1.0, 1.0, 0.0]\n",
      "(value.(I)).data = [0.0, 80.0, 50.0, 0.0, 35.0, 30.0, 25.0, 0.0, 100.0, 100.0, 0.0]\n",
      "-> Objective value: 11025.0\n"
     ]
    }
   ],
   "source": [
    "@show value.(p)\n",
    "@show value.(y)\n",
    "@show value.(I).data\n",
    "println(\"-> Objective value: \", objective_value(prgrm))"
   ]
  },
  {
   "cell_type": "markdown",
   "metadata": {},
   "source": [
    "## Eliminating stock variables"
   ]
  },
  {
   "cell_type": "code",
   "execution_count": 168,
   "metadata": {},
   "outputs": [
    {
     "name": "stdout",
     "output_type": "stream",
     "text": [
      "q = [5, 10, 10, 5, 8, 2, 7, 8, 9, 10]\n",
      "k = [0, 10, 5, 5, 10, 5, 8, 2, 2, 2, 8]\n"
     ]
    },
    {
     "data": {
      "text/plain": [
       "0"
      ]
     },
     "execution_count": 168,
     "metadata": {},
     "output_type": "execute_result"
    }
   ],
   "source": [
    "@show q\n",
    "@show k\n",
    "0"
   ]
  },
  {
   "cell_type": "code",
   "execution_count": 235,
   "metadata": {},
   "outputs": [
    {
     "data": {
      "text/plain": [
       "10-element Array{Any,1}:\n",
       " 62\n",
       " 57\n",
       " 52\n",
       " 42\n",
       " 35\n",
       " 24\n",
       " 21\n",
       " 20\n",
       " 19\n",
       " 18"
      ]
     },
     "execution_count": 235,
     "metadata": {},
     "output_type": "execute_result"
    }
   ],
   "source": [
    "c = []\n",
    "for t in 1:T\n",
    "    e = q[t] + sum(k[t+1:end])\n",
    "    append!(c,e)\n",
    "end\n",
    "c"
   ]
  },
  {
   "cell_type": "code",
   "execution_count": 186,
   "metadata": {},
   "outputs": [
    {
     "data": {
      "text/latex": [
       "$$ \\begin{alignat*}{1}\\min\\quad & 62 p_{1} + 57 p_{2} + 52 p_{3} + 42 p_{4} + 35 p_{5} + 24 p_{6} + 21 p_{7} + 20 p_{8} + 19 p_{9} + 18 p_{10} + 1000 y_{1} + 1000 y_{2} + 1000 y_{3} + 1000 y_{4} + 1000 y_{5} + 1000 y_{6} + 1000 y_{7} + 1000 y_{8} + 1000 y_{9} + 1000 y_{10}\\\\\n",
       "\\text{Subject to} \\quad & p_{1} \\geq 80.0\\\\\n",
       " & p_{1} + p_{2} \\geq 110.0\\\\\n",
       " & p_{1} + p_{2} + p_{3} \\geq 160.0\\\\\n",
       " & p_{1} + p_{2} + p_{3} + p_{4} \\geq 260.0\\\\\n",
       " & p_{1} + p_{2} + p_{3} + p_{4} + p_{5} \\geq 265.0\\\\\n",
       " & p_{1} + p_{2} + p_{3} + p_{4} + p_{5} + p_{6} \\geq 270.0\\\\\n",
       " & p_{1} + p_{2} + p_{3} + p_{4} + p_{5} + p_{6} + p_{7} \\geq 295.0\\\\\n",
       " & p_{1} + p_{2} + p_{3} + p_{4} + p_{5} + p_{6} + p_{7} + p_{8} \\geq 395.0\\\\\n",
       " & p_{1} + p_{2} + p_{3} + p_{4} + p_{5} + p_{6} + p_{7} + p_{8} + p_{9} \\geq 595.0\\\\\n",
       " & p_{1} + p_{2} + p_{3} + p_{4} + p_{5} + p_{6} + p_{7} + p_{8} + p_{9} + p_{10} \\geq 695.0\\\\\n",
       " & p_{1} \\leq 280.0\\\\\n",
       " & p_{1} + p_{2} \\leq 310.0\\\\\n",
       " & p_{1} + p_{2} + p_{3} \\leq 360.0\\\\\n",
       " & p_{1} + p_{2} + p_{3} + p_{4} \\leq 460.0\\\\\n",
       " & p_{1} + p_{2} + p_{3} + p_{4} + p_{5} \\leq 465.0\\\\\n",
       " & p_{1} + p_{2} + p_{3} + p_{4} + p_{5} + p_{6} \\leq 470.0\\\\\n",
       " & p_{1} + p_{2} + p_{3} + p_{4} + p_{5} + p_{6} + p_{7} \\leq 495.0\\\\\n",
       " & p_{1} + p_{2} + p_{3} + p_{4} + p_{5} + p_{6} + p_{7} + p_{8} \\leq 595.0\\\\\n",
       " & p_{1} + p_{2} + p_{3} + p_{4} + p_{5} + p_{6} + p_{7} + p_{8} + p_{9} \\leq 795.0\\\\\n",
       " & p_{1} + p_{2} + p_{3} + p_{4} + p_{5} + p_{6} + p_{7} + p_{8} + p_{9} + p_{10} \\leq 895.0\\\\\n",
       " & p_{1} - 200 y_{1} \\leq 0.0\\\\\n",
       " & p_{2} - 200 y_{2} \\leq 0.0\\\\\n",
       " & p_{3} - 200 y_{3} \\leq 0.0\\\\\n",
       " & p_{4} - 200 y_{4} \\leq 0.0\\\\\n",
       " & p_{5} - 200 y_{5} \\leq 0.0\\\\\n",
       " & p_{6} - 200 y_{6} \\leq 0.0\\\\\n",
       " & p_{7} - 200 y_{7} \\leq 0.0\\\\\n",
       " & p_{8} - 200 y_{8} \\leq 0.0\\\\\n",
       " & p_{9} - 200 y_{9} \\leq 0.0\\\\\n",
       " & p_{10} - 100 y_{10} \\leq 0.0\\\\\n",
       " & p_{1} \\geq 0.0\\\\\n",
       " & p_{2} \\geq 0.0\\\\\n",
       " & p_{3} \\geq 0.0\\\\\n",
       " & p_{4} \\geq 0.0\\\\\n",
       " & p_{5} \\geq 0.0\\\\\n",
       " & p_{6} \\geq 0.0\\\\\n",
       " & p_{7} \\geq 0.0\\\\\n",
       " & p_{8} \\geq 0.0\\\\\n",
       " & p_{9} \\geq 0.0\\\\\n",
       " & p_{10} \\geq 0.0\\\\\n",
       " & y_{1} \\geq 0.0\\\\\n",
       " & y_{2} \\geq 0.0\\\\\n",
       " & y_{3} \\geq 0.0\\\\\n",
       " & y_{4} \\geq 0.0\\\\\n",
       " & y_{5} \\geq 0.0\\\\\n",
       " & y_{6} \\geq 0.0\\\\\n",
       " & y_{7} \\geq 0.0\\\\\n",
       " & y_{8} \\geq 0.0\\\\\n",
       " & y_{9} \\geq 0.0\\\\\n",
       " & y_{10} \\geq 0.0\\\\\n",
       " & I_{0} \\geq 0.0\\\\\n",
       " & I_{1} \\geq 0.0\\\\\n",
       " & I_{2} \\geq 0.0\\\\\n",
       " & I_{3} \\geq 0.0\\\\\n",
       " & I_{4} \\geq 0.0\\\\\n",
       " & I_{5} \\geq 0.0\\\\\n",
       " & I_{6} \\geq 0.0\\\\\n",
       " & I_{7} \\geq 0.0\\\\\n",
       " & I_{8} \\geq 0.0\\\\\n",
       " & I_{9} \\geq 0.0\\\\\n",
       " & I_{10} \\geq 0.0\\\\\n",
       " & y_{1} \\leq 1.0\\\\\n",
       " & y_{2} \\leq 1.0\\\\\n",
       " & y_{3} \\leq 1.0\\\\\n",
       " & y_{4} \\leq 1.0\\\\\n",
       " & y_{5} \\leq 1.0\\\\\n",
       " & y_{6} \\leq 1.0\\\\\n",
       " & y_{7} \\leq 1.0\\\\\n",
       " & y_{8} \\leq 1.0\\\\\n",
       " & y_{9} \\leq 1.0\\\\\n",
       " & y_{10} \\leq 1.0\\\\\n",
       " & y_{1} integer\\\\\n",
       " & y_{2} integer\\\\\n",
       " & y_{3} integer\\\\\n",
       " & y_{4} integer\\\\\n",
       " & y_{5} integer\\\\\n",
       " & y_{6} integer\\\\\n",
       " & y_{7} integer\\\\\n",
       " & y_{8} integer\\\\\n",
       " & y_{9} integer\\\\\n",
       " & y_{10} integer\\\\\n",
       "\\end{alignat*}\n",
       " $$"
      ],
      "text/plain": [
       "A JuMP Model\n",
       "Minimization problem with:\n",
       "Variables: 31\n",
       "Objective function type: GenericAffExpr{Float64,VariableRef}\n",
       "`GenericAffExpr{Float64,VariableRef}`-in-`MathOptInterface.GreaterThan{Float64}`: 10 constraints\n",
       "`GenericAffExpr{Float64,VariableRef}`-in-`MathOptInterface.LessThan{Float64}`: 20 constraints\n",
       "`VariableRef`-in-`MathOptInterface.GreaterThan{Float64}`: 31 constraints\n",
       "`VariableRef`-in-`MathOptInterface.LessThan{Float64}`: 10 constraints\n",
       "`VariableRef`-in-`MathOptInterface.Integer`: 10 constraints\n",
       "Model mode: AUTOMATIC\n",
       "CachingOptimizer state: EMPTY_OPTIMIZER\n",
       "Solver name: GLPK\n",
       "Names registered in the model: I, p, y"
      ]
     },
     "execution_count": 186,
     "metadata": {},
     "output_type": "execute_result"
    }
   ],
   "source": [
    "prgrm = Model()\n",
    "set_optimizer(prgrm, GLPK.Optimizer)\n",
    "@variable(prgrm, p[1:T] >= 0)\n",
    "@variable(prgrm, 1 >= y[1:T] >= 0, Int)\n",
    "@variable(prgrm, I[0:T] >= 0) #We index from 0 to set an initial storage\n",
    "for i in 1:T\n",
    "    @constraint(prgrm,sum(p[1:i]) - sum(D[1:i]) >= 0)\n",
    "end\n",
    "for i in 1:T\n",
    "    @constraint(prgrm, sum(p[1:i]) - sum(D[1:i]) <= Imax)\n",
    "end\n",
    "for i in 1:T\n",
    "    M = min(sum(D[i:end]), Imax)\n",
    "    @constraint(prgrm, p[i] <= M*y[i])\n",
    "end\n",
    "c = []\n",
    "for t in 1:T\n",
    "    e = q[t] + sum(k[t+1:end])\n",
    "    append!(c,e)\n",
    "end\n",
    "@objective(prgrm, Min, sum(p .* c) + sum(y .* f))\n",
    "prgrm"
   ]
  },
  {
   "cell_type": "code",
   "execution_count": 187,
   "metadata": {},
   "outputs": [
    {
     "data": {
      "text/plain": [
       "OPTIMAL::TerminationStatusCode = 1"
      ]
     },
     "execution_count": 187,
     "metadata": {},
     "output_type": "execute_result"
    }
   ],
   "source": [
    "optimize!(prgrm)\n",
    "termination_status(prgrm)"
   ]
  },
  {
   "cell_type": "code",
   "execution_count": 188,
   "metadata": {},
   "outputs": [
    {
     "name": "stdout",
     "output_type": "stream",
     "text": [
      "value.(p) = [160.0, 0.0, 0.0, 135.0, 0.0, 0.0, 0.0, 200.0, 200.0, 0.0]\n",
      "value.(y) = [1.0, 0.0, 0.0, 1.0, 0.0, 0.0, 0.0, 1.0, 1.0, 0.0]\n",
      "-> Objective value: 27390.0\n"
     ]
    }
   ],
   "source": [
    "@show value.(p)\n",
    "@show value.(y)\n",
    "println(\"-> Objective value: \", objective_value(prgrm))"
   ]
  },
  {
   "cell_type": "code",
   "execution_count": 192,
   "metadata": {},
   "outputs": [
    {
     "data": {
      "text/plain": [
       "11025.0"
      ]
     },
     "execution_count": 192,
     "metadata": {},
     "output_type": "execute_result"
    }
   ],
   "source": [
    "K = 0\n",
    "for t in 1:T\n",
    "    e = k[t+1] * sum(D[1:t])\n",
    "    K = K + e\n",
    "end\n",
    "objective_value(prgrm) - K"
   ]
  },
  {
   "cell_type": "code",
   "execution_count": 190,
   "metadata": {},
   "outputs": [
    {
     "data": {
      "text/plain": [
       "11025.0"
      ]
     },
     "execution_count": 190,
     "metadata": {},
     "output_type": "execute_result"
    }
   ],
   "source": [
    "## 11 025\n"
   ]
  },
  {
   "cell_type": "code",
   "execution_count": 191,
   "metadata": {},
   "outputs": [
    {
     "data": {
      "text/plain": [
       "11-element Array{Int32,1}:\n",
       "  0\n",
       " 10\n",
       "  5\n",
       "  5\n",
       " 10\n",
       "  5\n",
       "  8\n",
       "  2\n",
       "  2\n",
       "  2\n",
       "  8"
      ]
     },
     "execution_count": 191,
     "metadata": {},
     "output_type": "execute_result"
    }
   ],
   "source": [
    "k"
   ]
  },
  {
   "cell_type": "code",
   "execution_count": 146,
   "metadata": {},
   "outputs": [
    {
     "data": {
      "text/plain": [
       "10-element Array{Int32,1}:\n",
       "  80\n",
       "  30\n",
       "  50\n",
       " 100\n",
       "   5\n",
       "   5\n",
       "  25\n",
       " 100\n",
       " 200\n",
       " 100"
      ]
     },
     "execution_count": 146,
     "metadata": {},
     "output_type": "execute_result"
    }
   ],
   "source": [
    "D"
   ]
  },
  {
   "cell_type": "code",
   "execution_count": 295,
   "metadata": {},
   "outputs": [
    {
     "data": {
      "text/latex": [
       "$$ \\begin{alignat*}{1}\\min\\quad & 62 w_{1,1} + 62 w_{1,2} + 62 w_{1,3} + 62 w_{1,4} + 62 w_{1,5} + 62 w_{1,6} + 62 w_{1,7} + 62 w_{1,8} + 62 w_{1,9} + 62 w_{1,10} + 57 w_{2,2} + 57 w_{2,3} + 57 w_{2,4} + 57 w_{2,5} + 57 w_{2,6} + 57 w_{2,7} + 57 w_{2,8} + 57 w_{2,9} + 57 w_{2,10} + 52 w_{3,3} + 52 w_{3,4} + 52 w_{3,5} + 52 w_{3,6} + 52 w_{3,7} + 52 w_{3,8} + 52 w_{3,9} + 52 w_{3,10} + 42 w_{4,4} + 42 w_{4,5} + 42 w_{4,6} + 42 w_{4,7} + 42 w_{4,8} + 42 w_{4,9} + 42 w_{4,10} + 35 w_{5,5} + 35 w_{5,6} + 35 w_{5,7} + 35 w_{5,8} + 35 w_{5,9} + 35 w_{5,10} + 24 w_{6,6} + 24 w_{6,7} + 24 w_{6,8} + 24 w_{6,9} + 24 w_{6,10} + 21 w_{7,7} + 21 w_{7,8} + 21 w_{7,9} + 21 w_{7,10} + 20 w_{8,8} + 20 w_{8,9} + 20 w_{8,10} + 19 w_{9,9} + 19 w_{9,10} + 18 w_{10,10} + 1000 y_{1} + 1000 y_{2} + 1000 y_{3} + 1000 y_{4} + 1000 y_{5} + 1000 y_{6} + 1000 y_{7} + 1000 y_{8} + 1000 y_{9} + 1000 y_{10}\\\\\n",
       "\\text{Subject to} \\quad & w_{2,1} = 0.0\\\\\n",
       " & w_{3,1} = 0.0\\\\\n",
       " & w_{3,2} = 0.0\\\\\n",
       " & w_{4,1} = 0.0\\\\\n",
       " & w_{4,2} = 0.0\\\\\n",
       " & w_{4,3} = 0.0\\\\\n",
       " & w_{5,1} = 0.0\\\\\n",
       " & w_{5,2} = 0.0\\\\\n",
       " & w_{5,3} = 0.0\\\\\n",
       " & w_{5,4} = 0.0\\\\\n",
       " & w_{6,1} = 0.0\\\\\n",
       " & w_{6,2} = 0.0\\\\\n",
       " & w_{6,3} = 0.0\\\\\n",
       " & w_{6,4} = 0.0\\\\\n",
       " & w_{6,5} = 0.0\\\\\n",
       " & w_{7,1} = 0.0\\\\\n",
       " & w_{7,2} = 0.0\\\\\n",
       " & w_{7,3} = 0.0\\\\\n",
       " & w_{7,4} = 0.0\\\\\n",
       " & w_{7,5} = 0.0\\\\\n",
       " & w_{7,6} = 0.0\\\\\n",
       " & w_{8,1} = 0.0\\\\\n",
       " & w_{8,2} = 0.0\\\\\n",
       " & w_{8,3} = 0.0\\\\\n",
       " & w_{8,4} = 0.0\\\\\n",
       " & w_{8,5} = 0.0\\\\\n",
       " & w_{8,6} = 0.0\\\\\n",
       " & w_{8,7} = 0.0\\\\\n",
       " & w_{9,1} = 0.0\\\\\n",
       " & w_{9,2} = 0.0\\\\\n",
       " & w_{9,3} = 0.0\\\\\n",
       " & w_{9,4} = 0.0\\\\\n",
       " & w_{9,5} = 0.0\\\\\n",
       " & w_{9,6} = 0.0\\\\\n",
       " & w_{9,7} = 0.0\\\\\n",
       " & w_{9,8} = 0.0\\\\\n",
       " & w_{10,1} = 0.0\\\\\n",
       " & w_{10,2} = 0.0\\\\\n",
       " & w_{10,3} = 0.0\\\\\n",
       " & w_{10,4} = 0.0\\\\\n",
       " & w_{10,5} = 0.0\\\\\n",
       " & w_{10,6} = 0.0\\\\\n",
       " & w_{10,7} = 0.0\\\\\n",
       " & w_{10,8} = 0.0\\\\\n",
       " & w_{10,9} = 0.0\\\\\n",
       " & w_{1,1} = 80.0\\\\\n",
       " & w_{1,2} + w_{2,2} = 30.0\\\\\n",
       " & w_{1,3} + w_{2,3} + w_{3,3} = 50.0\\\\\n",
       " & w_{1,4} + w_{2,4} + w_{3,4} + w_{4,4} = 100.0\\\\\n",
       " & w_{1,5} + w_{2,5} + w_{3,5} + w_{4,5} + w_{5,5} = 5.0\\\\\n",
       " & w_{1,6} + w_{2,6} + w_{3,6} + w_{4,6} + w_{5,6} + w_{6,6} = 5.0\\\\\n",
       " & w_{1,7} + w_{2,7} + w_{3,7} + w_{4,7} + w_{5,7} + w_{6,7} + w_{7,7} = 25.0\\\\\n",
       " & w_{1,8} + w_{2,8} + w_{3,8} + w_{4,8} + w_{5,8} + w_{6,8} + w_{7,8} + w_{8,8} = 100.0\\\\\n",
       " & w_{1,9} + w_{2,9} + w_{3,9} + w_{4,9} + w_{5,9} + w_{6,9} + w_{7,9} + w_{8,9} + w_{9,9} = 200.0\\\\\n",
       " & w_{1,10} + w_{2,10} + w_{3,10} + w_{4,10} + w_{5,10} + w_{6,10} + w_{7,10} + w_{8,10} + w_{9,10} + w_{10,10} = 100.0\\\\\n",
       " & w_{1,1} + w_{1,2} + w_{1,3} + w_{1,4} + w_{1,5} + w_{1,6} + w_{1,7} + w_{1,8} + w_{1,9} + w_{1,10} \\leq 200.0\\\\\n",
       " & w_{2,1} + w_{2,2} + w_{2,3} + w_{2,4} + w_{2,5} + w_{2,6} + w_{2,7} + w_{2,8} + w_{2,9} + w_{2,10} \\leq 200.0\\\\\n",
       " & w_{3,1} + w_{3,2} + w_{3,3} + w_{3,4} + w_{3,5} + w_{3,6} + w_{3,7} + w_{3,8} + w_{3,9} + w_{3,10} \\leq 200.0\\\\\n",
       " & w_{4,1} + w_{4,2} + w_{4,3} + w_{4,4} + w_{4,5} + w_{4,6} + w_{4,7} + w_{4,8} + w_{4,9} + w_{4,10} \\leq 200.0\\\\\n",
       " & w_{5,1} + w_{5,2} + w_{5,3} + w_{5,4} + w_{5,5} + w_{5,6} + w_{5,7} + w_{5,8} + w_{5,9} + w_{5,10} \\leq 200.0\\\\\n",
       " & w_{6,1} + w_{6,2} + w_{6,3} + w_{6,4} + w_{6,5} + w_{6,6} + w_{6,7} + w_{6,8} + w_{6,9} + w_{6,10} \\leq 200.0\\\\\n",
       " & w_{7,1} + w_{7,2} + w_{7,3} + w_{7,4} + w_{7,5} + w_{7,6} + w_{7,7} + w_{7,8} + w_{7,9} + w_{7,10} \\leq 200.0\\\\\n",
       " & w_{8,1} + w_{8,2} + w_{8,3} + w_{8,4} + w_{8,5} + w_{8,6} + w_{8,7} + w_{8,8} + w_{8,9} + w_{8,10} \\leq 200.0\\\\\n",
       " & w_{9,1} + w_{9,2} + w_{9,3} + w_{9,4} + w_{9,5} + w_{9,6} + w_{9,7} + w_{9,8} + w_{9,9} + w_{9,10} \\leq 200.0\\\\\n",
       " & w_{10,1} + w_{10,2} + w_{10,3} + w_{10,4} + w_{10,5} + w_{10,6} + w_{10,7} + w_{10,8} + w_{10,9} + w_{10,10} \\leq 200.0\\\\\n",
       " & w_{1,1} - 80 y_{1} \\leq 0.0\\\\\n",
       " & w_{1,2} - 30 y_{1} \\leq 0.0\\\\\n",
       " & w_{2,2} - 30 y_{2} \\leq 0.0\\\\\n",
       " & w_{1,3} - 50 y_{1} \\leq 0.0\\\\\n",
       " & w_{2,3} - 50 y_{2} \\leq 0.0\\\\\n",
       " & w_{3,3} - 50 y_{3} \\leq 0.0\\\\\n",
       " & w_{1,4} - 100 y_{1} \\leq 0.0\\\\\n",
       " & w_{2,4} - 100 y_{2} \\leq 0.0\\\\\n",
       " & w_{3,4} - 100 y_{3} \\leq 0.0\\\\\n",
       " & w_{4,4} - 100 y_{4} \\leq 0.0\\\\\n",
       " & w_{1,5} - 5 y_{1} \\leq 0.0\\\\\n",
       " & w_{2,5} - 5 y_{2} \\leq 0.0\\\\\n",
       " & w_{3,5} - 5 y_{3} \\leq 0.0\\\\\n",
       " & w_{4,5} - 5 y_{4} \\leq 0.0\\\\\n",
       " & w_{5,5} - 5 y_{5} \\leq 0.0\\\\\n",
       " & w_{1,6} - 5 y_{1} \\leq 0.0\\\\\n",
       " & w_{2,6} - 5 y_{2} \\leq 0.0\\\\\n",
       " & w_{3,6} - 5 y_{3} \\leq 0.0\\\\\n",
       " & w_{4,6} - 5 y_{4} \\leq 0.0\\\\\n",
       " & w_{5,6} - 5 y_{5} \\leq 0.0\\\\\n",
       " & w_{6,6} - 5 y_{6} \\leq 0.0\\\\\n",
       " & w_{1,7} - 25 y_{1} \\leq 0.0\\\\\n",
       " & w_{2,7} - 25 y_{2} \\leq 0.0\\\\\n",
       " & w_{3,7} - 25 y_{3} \\leq 0.0\\\\\n",
       " & w_{4,7} - 25 y_{4} \\leq 0.0\\\\\n",
       " & w_{5,7} - 25 y_{5} \\leq 0.0\\\\\n",
       " & w_{6,7} - 25 y_{6} \\leq 0.0\\\\\n",
       " & w_{7,7} - 25 y_{7} \\leq 0.0\\\\\n",
       " & w_{1,8} - 100 y_{1} \\leq 0.0\\\\\n",
       " & w_{2,8} - 100 y_{2} \\leq 0.0\\\\\n",
       " & w_{3,8} - 100 y_{3} \\leq 0.0\\\\\n",
       " & w_{4,8} - 100 y_{4} \\leq 0.0\\\\\n",
       " & w_{5,8} - 100 y_{5} \\leq 0.0\\\\\n",
       " & w_{6,8} - 100 y_{6} \\leq 0.0\\\\\n",
       " & w_{7,8} - 100 y_{7} \\leq 0.0\\\\\n",
       " & w_{8,8} - 100 y_{8} \\leq 0.0\\\\\n",
       " & w_{1,9} - 200 y_{1} \\leq 0.0\\\\\n",
       " & w_{2,9} - 200 y_{2} \\leq 0.0\\\\\n",
       " & w_{3,9} - 200 y_{3} \\leq 0.0\\\\\n",
       " & w_{4,9} - 200 y_{4} \\leq 0.0\\\\\n",
       " & w_{5,9} - 200 y_{5} \\leq 0.0\\\\\n",
       " & w_{6,9} - 200 y_{6} \\leq 0.0\\\\\n",
       " & w_{7,9} - 200 y_{7} \\leq 0.0\\\\\n",
       " & w_{8,9} - 200 y_{8} \\leq 0.0\\\\\n",
       " & w_{9,9} - 200 y_{9} \\leq 0.0\\\\\n",
       " & w_{1,10} - 100 y_{1} \\leq 0.0\\\\\n",
       " & w_{2,10} - 100 y_{2} \\leq 0.0\\\\\n",
       " & w_{3,10} - 100 y_{3} \\leq 0.0\\\\\n",
       " & w_{4,10} - 100 y_{4} \\leq 0.0\\\\\n",
       " & w_{5,10} - 100 y_{5} \\leq 0.0\\\\\n",
       " & w_{6,10} - 100 y_{6} \\leq 0.0\\\\\n",
       " & w_{7,10} - 100 y_{7} \\leq 0.0\\\\\n",
       " & w_{8,10} - 100 y_{8} \\leq 0.0\\\\\n",
       " & w_{9,10} - 100 y_{9} \\leq 0.0\\\\\n",
       " & w_{10,10} - 100 y_{10} \\leq 0.0\\\\\n",
       " & w_{1,1} \\geq 0.0\\\\\n",
       " & w_{2,1} \\geq 0.0\\\\\n",
       " & w_{3,1} \\geq 0.0\\\\\n",
       " & w_{4,1} \\geq 0.0\\\\\n",
       " & w_{5,1} \\geq 0.0\\\\\n",
       " & w_{6,1} \\geq 0.0\\\\\n",
       " & w_{7,1} \\geq 0.0\\\\\n",
       " & w_{8,1} \\geq 0.0\\\\\n",
       " & w_{9,1} \\geq 0.0\\\\\n",
       " & w_{10,1} \\geq 0.0\\\\\n",
       " & w_{1,2} \\geq 0.0\\\\\n",
       " & w_{2,2} \\geq 0.0\\\\\n",
       " & w_{3,2} \\geq 0.0\\\\\n",
       " & w_{4,2} \\geq 0.0\\\\\n",
       " & w_{5,2} \\geq 0.0\\\\\n",
       " & w_{6,2} \\geq 0.0\\\\\n",
       " & w_{7,2} \\geq 0.0\\\\\n",
       " & w_{8,2} \\geq 0.0\\\\\n",
       " & w_{9,2} \\geq 0.0\\\\\n",
       " & w_{10,2} \\geq 0.0\\\\\n",
       " & w_{1,3} \\geq 0.0\\\\\n",
       " & w_{2,3} \\geq 0.0\\\\\n",
       " & w_{3,3} \\geq 0.0\\\\\n",
       " & w_{4,3} \\geq 0.0\\\\\n",
       " & w_{5,3} \\geq 0.0\\\\\n",
       " & w_{6,3} \\geq 0.0\\\\\n",
       " & w_{7,3} \\geq 0.0\\\\\n",
       " & w_{8,3} \\geq 0.0\\\\\n",
       " & w_{9,3} \\geq 0.0\\\\\n",
       " & w_{10,3} \\geq 0.0\\\\\n",
       " & w_{1,4} \\geq 0.0\\\\\n",
       " & w_{2,4} \\geq 0.0\\\\\n",
       " & w_{3,4} \\geq 0.0\\\\\n",
       " & w_{4,4} \\geq 0.0\\\\\n",
       " & w_{5,4} \\geq 0.0\\\\\n",
       " & w_{6,4} \\geq 0.0\\\\\n",
       " & w_{7,4} \\geq 0.0\\\\\n",
       " & w_{8,4} \\geq 0.0\\\\\n",
       " & w_{9,4} \\geq 0.0\\\\\n",
       " & w_{10,4} \\geq 0.0\\\\\n",
       " & w_{1,5} \\geq 0.0\\\\\n",
       " & w_{2,5} \\geq 0.0\\\\\n",
       " & w_{3,5} \\geq 0.0\\\\\n",
       " & w_{4,5} \\geq 0.0\\\\\n",
       " & w_{5,5} \\geq 0.0\\\\\n",
       " & w_{6,5} \\geq 0.0\\\\\n",
       " & w_{7,5} \\geq 0.0\\\\\n",
       " & w_{8,5} \\geq 0.0\\\\\n",
       " & w_{9,5} \\geq 0.0\\\\\n",
       " & w_{10,5} \\geq 0.0\\\\\n",
       " & w_{1,6} \\geq 0.0\\\\\n",
       " & w_{2,6} \\geq 0.0\\\\\n",
       " & w_{3,6} \\geq 0.0\\\\\n",
       " & w_{4,6} \\geq 0.0\\\\\n",
       " & w_{5,6} \\geq 0.0\\\\\n",
       " & w_{6,6} \\geq 0.0\\\\\n",
       " & w_{7,6} \\geq 0.0\\\\\n",
       " & w_{8,6} \\geq 0.0\\\\\n",
       " & w_{9,6} \\geq 0.0\\\\\n",
       " & w_{10,6} \\geq 0.0\\\\\n",
       " & w_{1,7} \\geq 0.0\\\\\n",
       " & w_{2,7} \\geq 0.0\\\\\n",
       " & w_{3,7} \\geq 0.0\\\\\n",
       " & w_{4,7} \\geq 0.0\\\\\n",
       " & w_{5,7} \\geq 0.0\\\\\n",
       " & w_{6,7} \\geq 0.0\\\\\n",
       " & w_{7,7} \\geq 0.0\\\\\n",
       " & w_{8,7} \\geq 0.0\\\\\n",
       " & w_{9,7} \\geq 0.0\\\\\n",
       " & w_{10,7} \\geq 0.0\\\\\n",
       " & w_{1,8} \\geq 0.0\\\\\n",
       " & w_{2,8} \\geq 0.0\\\\\n",
       " & w_{3,8} \\geq 0.0\\\\\n",
       " & w_{4,8} \\geq 0.0\\\\\n",
       " & w_{5,8} \\geq 0.0\\\\\n",
       " & w_{6,8} \\geq 0.0\\\\\n",
       " & w_{7,8} \\geq 0.0\\\\\n",
       " & w_{8,8} \\geq 0.0\\\\\n",
       " & w_{9,8} \\geq 0.0\\\\\n",
       " & w_{10,8} \\geq 0.0\\\\\n",
       " & w_{1,9} \\geq 0.0\\\\\n",
       " & w_{2,9} \\geq 0.0\\\\\n",
       " & w_{3,9} \\geq 0.0\\\\\n",
       " & w_{4,9} \\geq 0.0\\\\\n",
       " & w_{5,9} \\geq 0.0\\\\\n",
       " & w_{6,9} \\geq 0.0\\\\\n",
       " & w_{7,9} \\geq 0.0\\\\\n",
       " & w_{8,9} \\geq 0.0\\\\\n",
       " & w_{9,9} \\geq 0.0\\\\\n",
       " & w_{10,9} \\geq 0.0\\\\\n",
       " & w_{1,10} \\geq 0.0\\\\\n",
       " & w_{2,10} \\geq 0.0\\\\\n",
       " & w_{3,10} \\geq 0.0\\\\\n",
       " & w_{4,10} \\geq 0.0\\\\\n",
       " & w_{5,10} \\geq 0.0\\\\\n",
       " & w_{6,10} \\geq 0.0\\\\\n",
       " & w_{7,10} \\geq 0.0\\\\\n",
       " & w_{8,10} \\geq 0.0\\\\\n",
       " & w_{9,10} \\geq 0.0\\\\\n",
       " & w_{10,10} \\geq 0.0\\\\\n",
       " & y_{1} \\geq 0.0\\\\\n",
       " & y_{2} \\geq 0.0\\\\\n",
       " & y_{3} \\geq 0.0\\\\\n",
       " & y_{4} \\geq 0.0\\\\\n",
       " & y_{5} \\geq 0.0\\\\\n",
       " & y_{6} \\geq 0.0\\\\\n",
       " & y_{7} \\geq 0.0\\\\\n",
       " & y_{8} \\geq 0.0\\\\\n",
       " & y_{9} \\geq 0.0\\\\\n",
       " & y_{10} \\geq 0.0\\\\\n",
       " & y_{1} \\leq 1.0\\\\\n",
       " & y_{2} \\leq 1.0\\\\\n",
       " & y_{3} \\leq 1.0\\\\\n",
       " & y_{4} \\leq 1.0\\\\\n",
       " & y_{5} \\leq 1.0\\\\\n",
       " & y_{6} \\leq 1.0\\\\\n",
       " & y_{7} \\leq 1.0\\\\\n",
       " & y_{8} \\leq 1.0\\\\\n",
       " & y_{9} \\leq 1.0\\\\\n",
       " & y_{10} \\leq 1.0\\\\\n",
       " & y_{1} integer\\\\\n",
       " & y_{2} integer\\\\\n",
       " & y_{3} integer\\\\\n",
       " & y_{4} integer\\\\\n",
       " & y_{5} integer\\\\\n",
       " & y_{6} integer\\\\\n",
       " & y_{7} integer\\\\\n",
       " & y_{8} integer\\\\\n",
       " & y_{9} integer\\\\\n",
       " & y_{10} integer\\\\\n",
       "\\end{alignat*}\n",
       " $$"
      ],
      "text/plain": [
       "A JuMP Model\n",
       "Minimization problem with:\n",
       "Variables: 110\n",
       "Objective function type: GenericAffExpr{Float64,VariableRef}\n",
       "`GenericAffExpr{Float64,VariableRef}`-in-`MathOptInterface.EqualTo{Float64}`: 55 constraints\n",
       "`GenericAffExpr{Float64,VariableRef}`-in-`MathOptInterface.LessThan{Float64}`: 65 constraints\n",
       "`VariableRef`-in-`MathOptInterface.GreaterThan{Float64}`: 110 constraints\n",
       "`VariableRef`-in-`MathOptInterface.LessThan{Float64}`: 10 constraints\n",
       "`VariableRef`-in-`MathOptInterface.Integer`: 10 constraints\n",
       "Model mode: AUTOMATIC\n",
       "CachingOptimizer state: EMPTY_OPTIMIZER\n",
       "Solver name: GLPK\n",
       "Names registered in the model: w, y"
      ]
     },
     "execution_count": 295,
     "metadata": {},
     "output_type": "execute_result"
    }
   ],
   "source": [
    "prgrm = Model()\n",
    "set_optimizer(prgrm, GLPK.Optimizer)\n",
    "\n",
    "@variable(prgrm, w[1:T , 1:T] >= 0)\n",
    "@variable(prgrm, 1 >= y[1:T] >= 0, Int)\n",
    "\n",
    "for t in 1:T\n",
    "    for i in 1:t-1\n",
    "        @constraint(prgrm, w[t,i] == 0)\n",
    "    end\n",
    "end\n",
    "\n",
    "for t in 1:T\n",
    "    @constraint(prgrm,sum(w[1:t, t]) == D[t])\n",
    "end\n",
    "\n",
    "for t in 1:T\n",
    "   @constraint(prgrm, sum(w[t,:]) <= Imax) \n",
    "end\n",
    "\n",
    "for t in 1:T\n",
    "    for i in 1:t\n",
    "        @constraint(prgrm, w[i,t] <= y[i]*D[t])\n",
    "    end\n",
    "end\n",
    "\n",
    "c = []\n",
    "for t in 1:T\n",
    "    e = q[t] + sum(k[t+1:end])\n",
    "    append!(c,e)\n",
    "end\n",
    "\n",
    "\n",
    "e = 0\n",
    "for i in 1:T\n",
    "    e = e + c[i]*sum(w[i,i:end])\n",
    "end\n",
    "\n",
    "@objective(prgrm, Min, e + sum(y .* f))\n",
    "prgrm"
   ]
  },
  {
   "cell_type": "code",
   "execution_count": 296,
   "metadata": {},
   "outputs": [
    {
     "data": {
      "text/plain": [
       "OPTIMAL::TerminationStatusCode = 1"
      ]
     },
     "execution_count": 296,
     "metadata": {},
     "output_type": "execute_result"
    }
   ],
   "source": [
    "optimize!(prgrm)\n",
    "termination_status(prgrm)"
   ]
  },
  {
   "cell_type": "code",
   "execution_count": 301,
   "metadata": {},
   "outputs": [
    {
     "name": "stdout",
     "output_type": "stream",
     "text": [
      "P[1] = 160.0   Y[1]=1.0\n",
      "P[2] = 0.0   Y[2]=0.0\n",
      "P[3] = 0.0   Y[3]=0.0\n",
      "P[4] = 135.0   Y[4]=1.0\n",
      "P[5] = 0.0   Y[5]=0.0\n",
      "P[6] = -4.301805825137862e-14   Y[6]=0.0\n",
      "P[7] = 0.0   Y[7]=0.0\n",
      "P[8] = 200.00000000000003   Y[8]=1.0\n",
      "P[9] = 200.0   Y[9]=1.0\n",
      "P[10] = 0.0   Y[10]=0.0\n",
      "->objective value: 11025.0\n"
     ]
    }
   ],
   "source": [
    "for i in 1:T\n",
    "    println(\"P[\",i,\"] = \", sum(value.(w[i,i:end])), \"   Y[\",i,\"]=\",value.(y[i]))\n",
    "end\n",
    "println(\"->objective value: \" , objective_value(prgrm) - K)"
   ]
  },
  {
   "cell_type": "code",
   "execution_count": 302,
   "metadata": {},
   "outputs": [
    {
     "data": {
      "text/plain": [
       "11025.0"
      ]
     },
     "execution_count": 302,
     "metadata": {},
     "output_type": "execute_result"
    }
   ],
   "source": [
    "K = 0\n",
    "for t in 1:T\n",
    "    e = k[t+1] * sum(D[1:t])\n",
    "    K = K + e\n",
    "end\n",
    "objective_value(prgrm) - K"
   ]
  },
  {
   "cell_type": "code",
   "execution_count": null,
   "metadata": {},
   "outputs": [],
   "source": []
  },
  {
   "cell_type": "markdown",
   "metadata": {},
   "source": [
    "| Logical Operation | Constraint                           | \n",
    "|:----------         |                           ----------:|\n",
    "| $z=x \\lor y$       | $x \\leq z,  y \\leq z,  z \\leq x+y$   |\n",
    "| $z=x \\land y$      | $x \\geq z,  y \\geq z,  z+1 \\geq x+y$ | \n",
    "| $z= \\neg x$        | $z = 1 − x$                          | \n",
    "| $x \\implies y$     | $x \\leq y$                           | \n",
    "| $x \\iff y$         | $x = y$                              |"
   ]
  },
  {
   "cell_type": "code",
   "execution_count": 318,
   "metadata": {},
   "outputs": [
    {
     "data": {
      "text/latex": [
       "$$ \\begin{alignat*}{1}\\max\\quad & \\alpha\\\\\n",
       "\\text{Subject to} \\quad & -x + \\alpha \\leq 0.0\\\\\n",
       " & -y + \\alpha \\leq 0.0\\\\\n",
       " & x + y \\leq 10.0\\\\\n",
       "\\end{alignat*}\n",
       " $$"
      ],
      "text/plain": [
       "A JuMP Model\n",
       "Maximization problem with:\n",
       "Variables: 3\n",
       "Objective function type: VariableRef\n",
       "`GenericAffExpr{Float64,VariableRef}`-in-`MathOptInterface.LessThan{Float64}`: 3 constraints\n",
       "Model mode: AUTOMATIC\n",
       "CachingOptimizer state: EMPTY_OPTIMIZER\n",
       "Solver name: GLPK\n",
       "Names registered in the model: alpha, x, y"
      ]
     },
     "execution_count": 318,
     "metadata": {},
     "output_type": "execute_result"
    }
   ],
   "source": [
    "prgrm2 = Model()\n",
    "set_optimizer(prgrm2, GLPK.Optimizer)\n",
    "\n",
    "@variable(prgrm2, x)\n",
    "@variable(prgrm2, y)\n",
    "@variable(prgrm2, alpha, base_name=\"\\\\alpha\")\n",
    "\n",
    "@constraint(prgrm2, alpha <= x)\n",
    "@constraint(prgrm2, alpha <= y)\n",
    "\n",
    "@constraint(prgrm2, x+y <= 10)\n",
    "\n",
    "@objective(prgrm2, Max, alpha)\n",
    "prgrm2"
   ]
  },
  {
   "cell_type": "code",
   "execution_count": 319,
   "metadata": {},
   "outputs": [
    {
     "name": "stdout",
     "output_type": "stream",
     "text": [
      "value.(x) = 5.0\n",
      "value.(y) = 5.0\n"
     ]
    },
    {
     "data": {
      "text/plain": [
       "5.0"
      ]
     },
     "execution_count": 319,
     "metadata": {},
     "output_type": "execute_result"
    }
   ],
   "source": [
    "optimize!(prgrm2)\n",
    "@show value.(x)\n",
    "@show value.(y)"
   ]
  },
  {
   "cell_type": "code",
   "execution_count": 321,
   "metadata": {},
   "outputs": [
    {
     "data": {
      "text/latex": [
       "$$ \\begin{alignat*}{1}\\min\\quad & x_{1} + 3 x_{2} + 5 x_{3} + 2 x_{4}\\\\\n",
       "\\text{Subject to} \\quad & x_{1} + x_{2} + 9 x_{3} + 5 x_{4} = 7.0\\\\\n",
       " & 3 x_{1} + 5 x_{2} + 8 x_{4} = 3.0\\\\\n",
       " & 2 x_{1} + 6 x_{3} + 13 x_{4} = 5.0\\\\\n",
       " & x_{1} \\geq 0.0\\\\\n",
       " & x_{2} \\geq 0.0\\\\\n",
       " & x_{3} \\geq 0.0\\\\\n",
       " & x_{4} \\geq 0.0\\\\\n",
       "\\end{alignat*}\n",
       " $$"
      ],
      "text/plain": [
       "A JuMP Model\n",
       "Minimization problem with:\n",
       "Variables: 4\n",
       "Objective function type: GenericAffExpr{Float64,VariableRef}\n",
       "`GenericAffExpr{Float64,VariableRef}`-in-`MathOptInterface.EqualTo{Float64}`: 3 constraints\n",
       "`VariableRef`-in-`MathOptInterface.GreaterThan{Float64}`: 4 constraints\n",
       "Model mode: AUTOMATIC\n",
       "CachingOptimizer state: EMPTY_OPTIMIZER\n",
       "Solver name: GLPK\n",
       "Names registered in the model: x"
      ]
     },
     "execution_count": 321,
     "metadata": {},
     "output_type": "execute_result"
    }
   ],
   "source": [
    "vector_model = Model(GLPK.Optimizer)\n",
    "@variable(vector_model, x[1:4] >= 0)\n",
    "@constraint(vector_model, A * x .== b)\n",
    "@objective(vector_model, Min, c' * x)\n",
    "vector_model"
   ]
  },
  {
   "cell_type": "code",
   "execution_count": 3,
   "metadata": {},
   "outputs": [
    {
     "data": {
      "text/latex": [
       "$$ \\begin{alignat*}{1}\\text{feasibility}\\\\\n",
       "\\text{Subject to} \\quad & a \\geq 0.0\\\\\n",
       " & b \\geq 0.0\\\\\n",
       " & a \\leq 1.0\\\\\n",
       " & b \\leq 1.0\\\\\n",
       " & a integer\\\\\n",
       " & b integer\\\\\n",
       "\\end{alignat*}\n",
       " $$"
      ],
      "text/plain": [
       "A JuMP Model\n",
       "Feasibility problem with:\n",
       "Variables: 2\n",
       "`VariableRef`-in-`MathOptInterface.GreaterThan{Float64}`: 2 constraints\n",
       "`VariableRef`-in-`MathOptInterface.LessThan{Float64}`: 2 constraints\n",
       "`VariableRef`-in-`MathOptInterface.Integer`: 2 constraints\n",
       "Model mode: AUTOMATIC\n",
       "CachingOptimizer state: EMPTY_OPTIMIZER\n",
       "Solver name: GLPK\n",
       "Names registered in the model: a, b"
      ]
     },
     "execution_count": 3,
     "metadata": {},
     "output_type": "execute_result"
    }
   ],
   "source": [
    "product = Model(GLPK.Optimizer)\n",
    "@variable(product, 1 >= a >= 0, Int)\n",
    "@variable(product, 1 >= b >= 0, Int)\n",
    "#This continuous variable will represent the product\n",
    "@variable(product, e>= 0) \n",
    "@constraint(product, e <= a)\n",
    "@constraint(product, e <= b)\n",
    "@constraint(product, e >= a+b-1)\n",
    "product"
   ]
  },
  {
   "cell_type": "code",
   "execution_count": null,
   "metadata": {},
   "outputs": [],
   "source": []
  }
 ],
 "metadata": {
  "kernelspec": {
   "display_name": "Julia 1.0.4",
   "language": "julia",
   "name": "julia-1.0"
  },
  "language_info": {
   "file_extension": ".jl",
   "mimetype": "application/julia",
   "name": "julia",
   "version": "1.0.4"
  }
 },
 "nbformat": 4,
 "nbformat_minor": 4
}
